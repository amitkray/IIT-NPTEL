{
 "cells": [
  {
   "cell_type": "code",
   "execution_count": null,
   "id": "responsible-density",
   "metadata": {},
   "outputs": [],
   "source": [
    "import pandas as pd\n",
    "import numpy as np\n",
    "import seaborn as sns\n",
    "from sklearn.model_selection import train_test_split\n",
    "from sklearn.linear_model import LogisticRegression\n",
    "from sklearn.metrics import accuracy_score, confusion_matrix\n",
    "pd.options.display.float_format = '{:.2f}'.format\n",
    "data_crops=pd.read_csv('apy.csv')\n",
    "print(data_crops.head())\n",
    "crops = data_crops.copy()\n",
    "print(crops.head())\n",
    "\n",
    "naval = crops.isnull().sum()\n",
    "\n",
    "print(naval)\n",
    "\n",
    "crops2 = crops.dropna(axis=0) # created a new dataframe data2\n",
    "crops2.info()"
   ]
  },
  {
   "cell_type": "code",
   "execution_count": null,
   "id": "referenced-combination",
   "metadata": {},
   "outputs": [],
   "source": [
    "crops2['Season']"
   ]
  },
  {
   "cell_type": "code",
   "execution_count": null,
   "id": "considerable-story",
   "metadata": {},
   "outputs": [],
   "source": [
    "sns.countplot(crops2['Season'],data=crops2)"
   ]
  },
  {
   "cell_type": "code",
   "execution_count": null,
   "id": "authorized-clinton",
   "metadata": {},
   "outputs": [],
   "source": [
    "production = crops2.groupby(['Season'])['Production'].agg('sum')\n",
    "production"
   ]
  },
  {
   "cell_type": "code",
   "execution_count": null,
   "id": "portuguese-mixture",
   "metadata": {},
   "outputs": [],
   "source": [
    "#pd.set_option('display.max_rows', None)\n",
    "crops_season = pd.crosstab(index=crops['Crop'],columns=crops2['Season'])\n",
    "crops_season"
   ]
  },
  {
   "cell_type": "code",
   "execution_count": null,
   "id": "micro-cement",
   "metadata": {},
   "outputs": [],
   "source": [
    "high_prod = crops2.groupby(['District_Name'])['Production'].agg('sum').sort_values()\n",
    "high_prod"
   ]
  },
  {
   "cell_type": "code",
   "execution_count": null,
   "id": "hungarian-bones",
   "metadata": {},
   "outputs": [],
   "source": [
    "#high_prod_tamilnadu = crops2.groupby(['Crop_Year'],['State_Name'])['Production'].agg('sum').sort_values()\n",
    "high_prod_tamilnadu = crops2.groupby(['Crop_Year','State_Name']).agg({'Production': 'sum'})\n",
    "\n",
    "print(high_prod_tamilnadu)"
   ]
  },
  {
   "cell_type": "code",
   "execution_count": null,
   "id": "incoming-scene",
   "metadata": {},
   "outputs": [],
   "source": [
    "#high_prod_state = crops2.groupby(['State_Name']).agg({'Production': 'sum'})\n",
    "\n",
    "high_prod_state = crops2.groupby(['State_Name'])['Production'].agg('sum').sort_values()\n",
    "high_prod_state"
   ]
  },
  {
   "cell_type": "code",
   "execution_count": null,
   "id": "single-employment",
   "metadata": {},
   "outputs": [],
   "source": [
    "column_1 = crops[\"Area\"]\n",
    "column_2 = crops[\"Production\"]\n",
    "correlation = column_1. corr(column_2) #calculate correlation between `column_1` and `column_2`\n",
    "print(correlation)"
   ]
  },
  {
   "cell_type": "code",
   "execution_count": null,
   "id": "protected-connection",
   "metadata": {},
   "outputs": [],
   "source": [
    "avg_prod = crops2['Production'].mean()\n",
    "avg_prod"
   ]
  },
  {
   "cell_type": "code",
   "execution_count": null,
   "id": "desperate-canal",
   "metadata": {},
   "outputs": [],
   "source": [
    "std_prod = crops2['Production'].std()\n",
    "std_prod"
   ]
  },
  {
   "cell_type": "code",
   "execution_count": null,
   "id": "suspended-recipient",
   "metadata": {},
   "outputs": [],
   "source": [
    "top3_1997 = crops2.groupby(['Crop_Year','Crop']).agg({'Production': 'sum'})\n",
    "\n",
    "print(top3_1997)"
   ]
  },
  {
   "cell_type": "code",
   "execution_count": null,
   "id": "pointed-brook",
   "metadata": {},
   "outputs": [],
   "source": [
    "column_1 = crops[\"Area\"]\n",
    "column_2 = crops[\"Crop_Year\"]\n",
    "correlation1 = column_1. corr(column_2) #calculate correlation between `column_1` and `column_2`\n",
    "print(correlation1)"
   ]
  },
  {
   "cell_type": "code",
   "execution_count": null,
   "id": "framed-weekend",
   "metadata": {},
   "outputs": [],
   "source": [
    "column_1 = crops[\"Production\"]\n",
    "column_2 = crops[\"Crop_Year\"]\n",
    "correlation2 = column_1. corr(column_2) #calculate correlation between `column_1` and `column_2`\n",
    "print(correlation2)"
   ]
  },
  {
   "cell_type": "code",
   "execution_count": null,
   "id": "little-satisfaction",
   "metadata": {},
   "outputs": [],
   "source": [
    "year_prod_highest = crops2.groupby(['Crop_Year'])['Production'].agg('sum').sort_values()\n",
    "year_prod_highest"
   ]
  },
  {
   "cell_type": "code",
   "execution_count": null,
   "id": "premier-measurement",
   "metadata": {},
   "outputs": [],
   "source": [
    "high_crop_state = crops2.groupby(['State_Name'])['Crop']\n",
    "high_crop_state.value_counts()"
   ]
  },
  {
   "cell_type": "code",
   "execution_count": null,
   "id": "geological-motion",
   "metadata": {},
   "outputs": [],
   "source": [
    "high_crop_state = crops2.groupby(['State_Name','Production'])['Crop']\n",
    "high_crop_state.value_counts()"
   ]
  },
  {
   "cell_type": "code",
   "execution_count": null,
   "id": "patent-refund",
   "metadata": {},
   "outputs": [],
   "source": []
  }
 ],
 "metadata": {
  "kernelspec": {
   "display_name": "Python 3",
   "language": "python",
   "name": "python3"
  },
  "language_info": {
   "codemirror_mode": {
    "name": "ipython",
    "version": 3
   },
   "file_extension": ".py",
   "mimetype": "text/x-python",
   "name": "python",
   "nbconvert_exporter": "python",
   "pygments_lexer": "ipython3",
   "version": "3.8.5"
  }
 },
 "nbformat": 4,
 "nbformat_minor": 5
}
